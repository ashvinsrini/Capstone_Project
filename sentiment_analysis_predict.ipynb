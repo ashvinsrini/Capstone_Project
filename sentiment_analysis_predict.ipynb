{
 "cells": [
  {
   "cell_type": "code",
   "execution_count": 1,
   "metadata": {
    "collapsed": true,
    "deletable": true,
    "editable": true
   },
   "outputs": [],
   "source": [
    "import pickle\n",
    "import pandas as pd\n",
    "import numpy as np\n",
    "from sklearn.metrics import accuracy_score\n",
    "from sklearn.metrics import fbeta_score\n",
    "from nltk.classify import ClassifierI\n",
    "from statistics import mode\n",
    "import matplotlib.pyplot as plt\n",
    "import nltk"
   ]
  },
  {
   "cell_type": "code",
   "execution_count": 2,
   "metadata": {
    "collapsed": true,
    "deletable": true,
    "editable": true
   },
   "outputs": [],
   "source": [
    "class VoteClassifier(ClassifierI):\n",
    "    def __init__(self, *classifiers):\n",
    "        self._classifiers = classifiers\n",
    "\n",
    "    def classify(self, features):\n",
    "        votes = []\n",
    "        for c in self._classifiers:\n",
    "            v = c.classify(features)\n",
    "            votes.append(v)\n",
    "        return votes\n",
    "\n",
    "    def confidence(self, features):\n",
    "        votes = []\n",
    "        for c in self._classifiers:\n",
    "            v = c.classify(features)\n",
    "            votes.append(v)\n",
    "\n",
    "        choice_votes = votes.count(mode(votes))\n",
    "        conf = choice_votes / len(votes)\n",
    "        return conf\n"
   ]
  },
  {
   "cell_type": "code",
   "execution_count": 3,
   "metadata": {
    "collapsed": true,
    "deletable": true,
    "editable": true
   },
   "outputs": [],
   "source": [
    "def extract(word_list):\n",
    "    all_word_types=['J','V','N']\n",
    "    ret_list=[]\n",
    "    temp=nltk.pos_tag(word_list)\n",
    "    for w in temp:\n",
    "        if (w[1][0]) in all_word_types:\n",
    "            ret_list.append(w[0].lower())\n",
    "        \n",
    "    return ret_list\n",
    "\n",
    "def find_feats(document):\n",
    "    words=nltk.word_tokenize(document)\n",
    "    words=extract(words)\n",
    "    features={}\n",
    "    for w in word_feats:\n",
    "         features[w]=w in words\n",
    "    return features\n",
    "\n",
    "def find_pred(clf,test_set):\n",
    "    y_pred=[clf.classify(test_set[i][0]) for i in range(len(test_set))]\n",
    "    y_true=[test_set[i][1] for i in range(len(test_set))]\n",
    "    y_pred=pd.Series(y_pred).apply(lambda x:0 if x=='neg' else 1)\n",
    "    y_true=pd.Series(y_true).apply(lambda x:0 if x=='neg' else 1)\n",
    "    accuracy=accuracy_score(y_true,y_pred)*100\n",
    "    f_beta=fbeta_score(y_true,y_pred,beta=0.5)\n",
    "    return accuracy,f_beta"
   ]
  },
  {
   "cell_type": "code",
   "execution_count": 4,
   "metadata": {
    "collapsed": false,
    "deletable": true,
    "editable": true
   },
   "outputs": [],
   "source": [
    "temp_var=open('word_feats.pickle','rb')\n",
    "word_feats=pickle.load(temp_var)\n",
    "temp_var.close()\n",
    "\n",
    "temp_var=open('train_data.pickle','rb')\n",
    "train_set=pickle.load(temp_var)\n",
    "temp_var.close()\n",
    "\n",
    "\n",
    "temp_var=open('test_data.pickle','rb')\n",
    "test_set=pickle.load(temp_var)\n",
    "temp_var.close()\n",
    "\n",
    "save_clf=open('OrigNB.pickle','rb')\n",
    "Classifier=pickle.load(save_clf)\n",
    "save_clf.close()\n",
    "\n",
    "save_clf=open('Logistic_reg.pickle','rb')\n",
    "LogisticRegression_classifier=pickle.load(save_clf)\n",
    "save_clf.close()\n",
    "\n",
    "save_clf=open('LinearSVC.pickle','rb')\n",
    "linsvc_bestclf=pickle.load(save_clf)\n",
    "save_clf.close()\n",
    "\n",
    "save_clf=open('NuSVC.pickle','rb')\n",
    "NuSVC_bestclf=pickle.load(save_clf)\n",
    "save_clf.close()\n",
    "\n",
    "save_clf=open('randomforest.pickle','rb')\n",
    "rf_bestclf=pickle.load(save_clf)\n",
    "save_clf.close()\n",
    "\n",
    "save_clf=open('unopt_LinearSVC.pickle','rb')\n",
    "unopt_linSVC_classifier=pickle.load(save_clf)\n",
    "save_clf.close()\n",
    "\n",
    "save_clf=open('unopt_NuSVC.pickle','rb')\n",
    "unopt_NuSVC_classifier=pickle.load(save_clf)\n",
    "save_clf.close()\n",
    "\n",
    "save_clf=open('unopt_randomforest.pickle','rb')\n",
    "unopt_rf_classifier=pickle.load(save_clf)\n",
    "save_clf.close()"
   ]
  },
  {
   "cell_type": "code",
   "execution_count": 5,
   "metadata": {
    "collapsed": true,
    "deletable": true,
    "editable": true
   },
   "outputs": [],
   "source": [
    "def find_pred(clf,test_set):\n",
    "    y_pred=[clf.classify(test_set[i][0]) for i in range(len(test_set))]\n",
    "    y_true=[test_set[i][1] for i in range(len(test_set))]\n",
    "    y_pred=pd.Series(y_pred).apply(lambda x:0 if x=='neg' else 1)\n",
    "    y_true=pd.Series(y_true).apply(lambda x:0 if x=='neg' else 1)\n",
    "    accuracy=accuracy_score(y_true,y_pred)*100\n",
    "    f_beta=fbeta_score(y_true,y_pred,beta=0.5)\n",
    "    return accuracy,f_beta"
   ]
  },
  {
   "cell_type": "code",
   "execution_count": 6,
   "metadata": {
    "collapsed": false,
    "deletable": true,
    "editable": true
   },
   "outputs": [
    {
     "name": "stdout",
     "output_type": "stream",
     "text": [
      "Benchmark model Naive accuracy:49.91 and naive beta score:0.5546664888533261\n"
     ]
    }
   ],
   "source": [
    "df_output_raw=pd.Series([list(train_set[i])[-1] for i in range(len(train_set))])\n",
    "# Encode output into numerical values\n",
    "\n",
    "df_output=df_output_raw.apply(lambda x: 1 if x =='pos' else 0)\n",
    "\n",
    "#### Bench mark model #####\n",
    "accuracies=[]\n",
    "fbeta=[]\n",
    "TP=np.sum(df_output)\n",
    "FP=df_output.count()-TP\n",
    "naive_acc=TP/(TP+FP)\n",
    "beta=0.5\n",
    "recall = TP/TP\n",
    "precision = naive_acc\n",
    "naive_fscore = (1+beta**2)*precision*recall/((beta**2*precision)+recall)\n",
    "print('Benchmark model Naive accuracy:{} and naive beta score:{}'.format(naive_acc*100,naive_fscore))\n",
    "accuracies.append(naive_acc*100)\n",
    "fbeta.append(naive_fscore)"
   ]
  },
  {
   "cell_type": "code",
   "execution_count": 7,
   "metadata": {
    "collapsed": false,
    "deletable": true,
    "editable": true
   },
   "outputs": [
    {
     "name": "stdout",
     "output_type": "stream",
     "text": [
      "Original Naive Bayes accuracy:66.71686746987952 and f_beta:0.669943093636834\n",
      "Logistic Regression accuracy:66.26506024096386 and f_beta:0.6750788643533122\n",
      "Linear SVC accuracy:64.7590361445783 and f_beta:0.6530717604543108\n",
      "unoptimised Linear SVC accuracy:63.704819277108435 and f_beta:0.6441558441558441\n",
      "Nu SVC accuracy:66.41566265060241 and f_beta:0.6663301362948006\n",
      "unoptimised Nu SVC accuracy:59.48795180722891 and f_beta:0.6094117647058824\n",
      "Random Forest accuracy:62.65060240963856 and f_beta:0.6346826586706646\n",
      "unoptimised Random Forest accuracy:60.69277108433735 and f_beta:0.6183206106870229\n"
     ]
    }
   ],
   "source": [
    "\n",
    "acc,beta=find_pred(Classifier,test_set)\n",
    "accuracies.append(acc)\n",
    "fbeta.append(beta)\n",
    "print('Original Naive Bayes accuracy:{} and f_beta:{}'.format(acc,beta))\n",
    "\n",
    "acc,beta=find_pred(LogisticRegression_classifier,test_set)\n",
    "accuracies.append(acc)\n",
    "fbeta.append(beta)\n",
    "print('Logistic Regression accuracy:{} and f_beta:{}'.format(acc,beta))\n",
    "\n",
    "acc,beta=find_pred(linsvc_bestclf,test_set)\n",
    "accuracies.append(acc)\n",
    "fbeta.append(beta)\n",
    "print('Linear SVC accuracy:{} and f_beta:{}'.format(acc,beta))\n",
    "\n",
    "acc,beta=find_pred(unopt_linSVC_classifier,test_set)\n",
    "accuracies.append(acc)\n",
    "fbeta.append(beta)\n",
    "print('unoptimised Linear SVC accuracy:{} and f_beta:{}'.format(acc,beta))\n",
    "\n",
    "acc,beta=find_pred(NuSVC_bestclf,test_set)\n",
    "accuracies.append(acc)\n",
    "fbeta.append(beta)\n",
    "print('Nu SVC accuracy:{} and f_beta:{}'.format(acc,beta))\n",
    "\n",
    "acc,beta=find_pred(unopt_NuSVC_classifier,test_set)\n",
    "accuracies.append(acc)\n",
    "fbeta.append(beta)\n",
    "print('unoptimised Nu SVC accuracy:{} and f_beta:{}'.format(acc,beta))\n",
    "\n",
    "acc,beta=find_pred(rf_bestclf,test_set)\n",
    "accuracies.append(acc)\n",
    "fbeta.append(beta)\n",
    "print('Random Forest accuracy:{} and f_beta:{}'.format(acc,beta))\n",
    "\n",
    "acc,beta=find_pred(unopt_rf_classifier,test_set)\n",
    "accuracies.append(acc)\n",
    "fbeta.append(beta)\n",
    "print('unoptimised Random Forest accuracy:{} and f_beta:{}'.format(acc,beta))\n",
    "\n",
    "\n"
   ]
  },
  {
   "cell_type": "code",
   "execution_count": 8,
   "metadata": {
    "collapsed": false
   },
   "outputs": [
    {
     "data": {
      "text/plain": [
       "<matplotlib.figure.Figure at 0x12400c0f0>"
      ]
     },
     "metadata": {},
     "output_type": "display_data"
    },
    {
     "data": {
      "image/png": "[encoded data removed]",
      "text/plain": [
       "<matplotlib.figure.Figure at 0x124044c50>"
      ]
     },
     "metadata": {},
     "output_type": "display_data"
    },
    {
     "data": {
      "image/png": "[encoded data removed]",
      "text/plain": [
       "<matplotlib.figure.Figure at 0x1a6a558d0>"
      ]
     },
     "metadata": {},
     "output_type": "display_data"
    }
   ],
   "source": [
    "%matplotlib inline\n",
    "objects=('benchmark','Naive Bayes','logistic','linSVC', 'unoptSVC','NuSVC','unoptSVC','RF','unoptRF')\n",
    "y_pos = np.arange(len(objects))\n",
    "plt.figure(1)\n",
    "plt.figure(figsize=(20,5))\n",
    "plt.bar(y_pos, accuracies, align='center', alpha=0.5)\n",
    "plt.xticks(y_pos, objects)\n",
    "plt.ylabel('Accuracy in percentage')\n",
    "plt.title('Accuracy for different classifiers')\n",
    "plt.figure(2)\n",
    "plt.figure(figsize=(20,5))\n",
    "plt.bar(y_pos, fbeta, align='center', alpha=0.5)\n",
    "plt.xticks(y_pos, objects)\n",
    "plt.ylabel('fbeta values')\n",
    "plt.title('fbeta for different classifiers')\n",
    "plt.show()\n"
   ]
  },
  {
   "cell_type": "code",
   "execution_count": 9,
   "metadata": {
    "collapsed": false,
    "deletable": true,
    "editable": true
   },
   "outputs": [],
   "source": [
    "voted_classifier = VoteClassifier(Classifier,\n",
    "                                  LogisticRegression_classifier,\n",
    "                                  linsvc_bestclf,\n",
    "                                  NuSVC_bestclf,\n",
    "                                  rf_bestclf)"
   ]
  },
  {
   "cell_type": "code",
   "execution_count": 10,
   "metadata": {
    "collapsed": true,
    "deletable": true,
    "editable": true
   },
   "outputs": [],
   "source": [
    "def sentiment(text,ground_truth_flag=False):\n",
    "    \n",
    "    if ground_truth_flag==True:\n",
    "        feats=text[0]\n",
    "        return voted_classifier.classify(feats),voted_classifier.confidence(feats)\n",
    "    else: \n",
    "        feats = find_feats(text)\n",
    "        return voted_classifier.classify(feats),voted_classifier.confidence(feats)\n",
    "        \n",
    "    "
   ]
  },
  {
   "cell_type": "code",
   "execution_count": 11,
   "metadata": {
    "collapsed": false,
    "deletable": true,
    "editable": true
   },
   "outputs": [],
   "source": [
    "votes=[]\n",
    "confidences=[]\n",
    "for i in range(len(test_set)):\n",
    "    vote,confidence=sentiment(test_set[i],ground_truth_flag=True)\n",
    "    votes.append(vote)\n",
    "    confidences.append(confidence*100)"
   ]
  },
  {
   "cell_type": "code",
   "execution_count": 14,
   "metadata": {
    "collapsed": false,
    "deletable": true,
    "editable": true
   },
   "outputs": [
    {
     "data": {
      "image/png": "[encoded data removed]",
      "text/plain": [
       "<matplotlib.figure.Figure at 0x1072e1940>"
      ]
     },
     "metadata": {},
     "output_type": "display_data"
    }
   ],
   "source": [
    "%matplotlib inline\n",
    "plt.hist(confidences)\n",
    "plt.xlabel('Confidence levels')\n",
    "plt.ylabel('Frequency')\n",
    "plt.title('Confidence levels of classified test dataset')\n",
    "plt.show()\n"
   ]
  },
  {
   "cell_type": "code",
   "execution_count": 13,
   "metadata": {
    "collapsed": false,
    "deletable": true,
    "editable": true
   },
   "outputs": [],
   "source": [
    "statement1=\"This movie was awesome! The acting was great, plot was wonderful, and there were pythons...so yea!\"\n",
    "statement2=\"This movie was utter junk. There were absolutely 0 pythons. I don't see what the point was at all. Horrible movie, 0/10\"\n",
    "statement3='He is the best fighter I have seen since a long time, however, he is a total idiot!'"
   ]
  }
 ],
 "metadata": {
  "kernelspec": {
   "display_name": "Python 3",
   "language": "python",
   "name": "python3"
  },
  "language_info": {
   "codemirror_mode": {
    "name": "ipython",
    "version": 3
   },
   "file_extension": ".py",
   "mimetype": "text/x-python",
   "name": "python",
   "nbconvert_exporter": "python",
   "pygments_lexer": "ipython3",
   "version": "3.5.2"
  }
 },
 "nbformat": 4,
 "nbformat_minor": 2
}
